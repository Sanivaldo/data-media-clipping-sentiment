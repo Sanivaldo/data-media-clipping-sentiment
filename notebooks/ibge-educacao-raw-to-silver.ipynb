{
 "cells": [
  {
   "cell_type": "code",
   "execution_count": 0,
   "metadata": {
    "application/vnd.databricks.v1+cell": {
     "cellMetadata": {
      "byteLimit": 2048000,
      "rowLimit": 10000
     },
     "inputWidgets": {},
     "nuid": "cd598c65-df2b-46e7-9325-7aba6964f827",
     "showTitle": false,
     "tableResultSettingsMap": {},
     "title": ""
    }
   },
   "outputs": [
    {
     "output_type": "stream",
     "name": "stdout",
     "output_type": "stream",
     "text": [
      "Out[3]: [FileInfo(path='abfss://raw@stcensodados.dfs.core.windows.net/ibge/tabela10061.xlsx', name='tabela10061.xlsx', size=1308703, modificationTime=1749998828000)]"
     ]
    }
   ],
   "source": [
    "spark.conf.set(\n",
    "  \"fs.azure.account.key.stcensodados.dfs.core.windows.net\",\n",
    "  \"<your-storage-account-key>\"\n",
    ")\n",
    "\n",
    "dbutils.fs.ls(\"abfss://raw@stcensodados.dfs.core.windows.net/ibge/\")"
   ]
  },
  {
   "cell_type": "code",
   "execution_count": 0,
   "metadata": {
    "application/vnd.databricks.v1+cell": {
     "cellMetadata": {
      "byteLimit": 2048000,
      "rowLimit": 10000
     },
     "inputWidgets": {},
     "nuid": "cc600254-6bc4-4480-8e00-d2259bcec2b4",
     "showTitle": false,
     "tableResultSettingsMap": {},
     "title": ""
    }
   },
   "outputs": [
    {
     "output_type": "stream",
     "name": "stdout",
     "output_type": "stream",
     "text": [
      "Out[11]: True"
     ]
    }
   ],
   "source": [
    "# Copy file to local\n",
    "dbutils.fs.cp(\n",
    "  \"abfss://raw@stcensodados.dfs.core.windows.net/ibge/tabela10061.xlsx\",\n",
    "  \"file:/tmp/tabela10061.xlsx\"\n",
    ")\n",
    "\n"
   ]
  },
  {
   "cell_type": "code",
   "execution_count": 0,
   "metadata": {
    "application/vnd.databricks.v1+cell": {
     "cellMetadata": {
      "byteLimit": 2048000,
      "rowLimit": 10000
     },
     "inputWidgets": {},
     "nuid": "68a6e102-b02d-48c8-a8c8-8f7e5306f7f7",
     "showTitle": false,
     "tableResultSettingsMap": {},
     "title": ""
    }
   },
   "outputs": [
    {
     "output_type": "display_data",
     "data": {
      "text/html": [
       "<style scoped>\n",
       "  .ansiout {\n",
       "    display: block;\n",
       "    unicode-bidi: embed;\n",
       "    white-space: pre-wrap;\n",
       "    word-wrap: break-word;\n",
       "    word-break: break-all;\n",
       "    font-family: \"Menlo\", \"Monaco\", \"Consolas\", \"Ubuntu Mono\", \"Source Code Pro\", monospace;\n",
       "    font-size: 13px;\n",
       "    color: #555;\n",
       "    margin-left: 4px;\n",
       "    line-height: 19px;\n",
       "  }\n",
       "</style>"
      ]
     },
     "metadata": {
      "application/vnd.databricks.v1+output": {
       "arguments": {},
       "data": "",
       "errorSummary": "Cancelled",
       "errorTraceType": "html",
       "metadata": {},
       "type": "ipynbError"
      }
     },
     "output_type": "display_data"
    }
   ],
   "source": [
    "\n",
    "import pandas as pd\n",
    "\n",
    "# Read headers\n",
    "df_pd = pd.read_excel(\"/tmp/tabela10061.xlsx\", sheet_name=\"Tabela\", skiprows=4, header=None, dtype=str)\n",
    "\n",
    "# Renomeia as colunas manualmente com base na estrutura ideal\n",
    "df_pd.columns = [\n",
    "    \"Local\", \"Sexo\", \"Cor_ou_raca\",\n",
    "    \"Sem_instrucao_fund_incompleto\",\n",
    "    \"Fundamental_medio_incompleto\",\n",
    "    \"Medio_superior_incompleto\",\n",
    "    \"Superior_completo\"\n",
    "]\n",
    "\n",
    "# Remove possíveis linhas vazias\n",
    "df_pd = df_pd.dropna(subset=[\"Local\", \"Sexo\", \"Cor_ou_raca\"], how=\"all\")\n",
    "\n",
    "# Preenche Local e Sexo para baixo\n",
    "df_pd[[\"Local\", \"Sexo\"]] = df_pd[[\"Local\", \"Sexo\"]].ffill()\n",
    "\n",
    "# Substitui valores faltantes por vazio\n",
    "df_pd = df_pd.fillna(\"\")\n",
    "\n",
    "# Converte para Spark DataFrame\n",
    "df = spark.createDataFrame(df_pd)\n",
    "display(df)\n"
   ]
  },
  {
   "cell_type": "code",
   "execution_count": 0,
   "metadata": {
    "application/vnd.databricks.v1+cell": {
     "cellMetadata": {
      "byteLimit": 2048000,
      "rowLimit": 10000
     },
     "inputWidgets": {},
     "nuid": "2d6eaa74-f39f-4dcc-8356-4508c2f135f2",
     "showTitle": false,
     "tableResultSettingsMap": {},
     "title": ""
    }
   },
   "outputs": [],
   "source": [
    "from pyspark.sql.functions import when, col\n",
    "\n",
    "df_raw = df  # from previous step\n",
    "\n",
    "columns_to_clean = df_raw.columns[3:]\n",
    "for col_name in columns_to_clean:\n",
    "    df_raw = df_raw.withColumn(col_name,\n",
    "        when(col(col_name) == \"-\", None).otherwise(col(col_name).cast(\"double\"))\n",
    "    )\n",
    "\n",
    "# fill\n",
    "from pyspark.sql.window import Window\n",
    "from pyspark.sql.functions import last\n",
    "\n",
    "windowSpec = Window.orderBy(\"Local\").rowsBetween(Window.unboundedPreceding, 0)\n",
    "df_cleaned = df_raw.withColumn(\"Local\", last(\"Local\", True).over(windowSpec)) \\\n",
    "                   .withColumn(\"Sexo\", last(\"Sexo\", True).over(windowSpec))\n"
   ]
  },
  {
   "cell_type": "code",
   "execution_count": 0,
   "metadata": {
    "application/vnd.databricks.v1+cell": {
     "cellMetadata": {
      "byteLimit": 2048000,
      "rowLimit": 10000
     },
     "inputWidgets": {},
     "nuid": "e5826503-b229-4f3e-a3f0-79f597f5798b",
     "showTitle": false,
     "tableResultSettingsMap": {},
     "title": ""
    }
   },
   "outputs": [
    {
     "output_type": "display_data",
     "data": {
      "text/html": [
       "<style scoped>\n",
       "  .ansiout {\n",
       "    display: block;\n",
       "    unicode-bidi: embed;\n",
       "    white-space: pre-wrap;\n",
       "    word-wrap: break-word;\n",
       "    word-break: break-all;\n",
       "    font-family: \"Menlo\", \"Monaco\", \"Consolas\", \"Ubuntu Mono\", \"Source Code Pro\", monospace;\n",
       "    font-size: 13px;\n",
       "    color: #555;\n",
       "    margin-left: 4px;\n",
       "    line-height: 19px;\n",
       "  }\n",
       "</style>"
      ]
     },
     "metadata": {
      "application/vnd.databricks.v1+output": {
       "arguments": {},
       "data": "",
       "errorSummary": "Cancelled",
       "errorTraceType": "html",
       "metadata": {},
       "type": "ipynbError"
      }
     },
     "output_type": "display_data"
    }
   ],
   "source": [
    "#aqui eu crio o delta em parquet na camada prata\n",
    "\n",
    "df_cleaned.write.format(\"delta\").mode(\"overwrite\").save(\"abfss://processed@stcensodados.dfs.core.windows.net/ibge/tabela10061/\")\n"
   ]
  }
 ],
 "metadata": {
  "application/vnd.databricks.v1+notebook": {
   "computePreferences": null,
   "dashboards": [],
   "environmentMetadata": {
    "base_environment": "",
    "environment_version": "2"
   },
   "inputWidgetPreferences": null,
   "language": "python",
   "notebookMetadata": {
    "pythonIndentUnit": 4
   },
   "notebookName": "ibge-educacao-raw-to-silver",
   "widgets": {}
  },
  "language_info": {
   "name": "python"
  }
 },
 "nbformat": 4,
 "nbformat_minor": 0
}